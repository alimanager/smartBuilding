{
 "cells": [
  {
   "cell_type": "code",
   "execution_count": 1,
   "metadata": {},
   "outputs": [
    {
     "ename": "NameError",
     "evalue": "name 'merged_df' is not defined",
     "output_type": "error",
     "traceback": [
      "\u001b[1;31m---------------------------------------------------------------------------\u001b[0m",
      "\u001b[1;31mNameError\u001b[0m                                 Traceback (most recent call last)",
      "\u001b[1;32malimanager\\smartBuilding\\data.ipynb Cell 1\u001b[0m line \u001b[0;36m1\n\u001b[0;32m      <a href='vscode-notebook-cell://github/alimanager/smartBuilding/data.ipynb#W0sdnNjb2RlLXZmcw%3D%3D?line=8'>9</a>\u001b[0m \u001b[39mfrom\u001b[39;00m \u001b[39mydata_profiling\u001b[39;00m \u001b[39mimport\u001b[39;00m ProfileReport\n\u001b[0;32m     <a href='vscode-notebook-cell://github/alimanager/smartBuilding/data.ipynb#W0sdnNjb2RlLXZmcw%3D%3D?line=9'>10</a>\u001b[0m \u001b[39m# df = pd.DataFrame(np.random.rand(100, 5), columns=[\"a\", \"b\", \"c\", \"d\", \"e\"])\u001b[39;00m\n\u001b[1;32m---> <a href='vscode-notebook-cell://github/alimanager/smartBuilding/data.ipynb#W0sdnNjb2RlLXZmcw%3D%3D?line=10'>11</a>\u001b[0m profile \u001b[39m=\u001b[39m ProfileReport(merged_df, title\u001b[39m=\u001b[39m\u001b[39m\"\u001b[39m\u001b[39mProfiling Report\u001b[39m\u001b[39m\"\u001b[39m)\n\u001b[0;32m     <a href='vscode-notebook-cell://github/alimanager/smartBuilding/data.ipynb#W0sdnNjb2RlLXZmcw%3D%3D?line=11'>12</a>\u001b[0m profile\u001b[39m.\u001b[39mto_file(\u001b[39m\"\u001b[39m\u001b[39myour_report.html\u001b[39m\u001b[39m\"\u001b[39m)\n",
      "\u001b[1;31mNameError\u001b[0m: name 'merged_df' is not defined"
     ]
    }
   ],
   "source": [
    "### Data Exploration : \n",
    "# from pandas_profiling import ProfileReport\n",
    "# from pydantic_settings import BaseSettings\n",
    "# class Settings(BaseSettings):\n",
    "#     title: str\n",
    "\n",
    "#     class Config:\n",
    "#         env_prefix = \"profile_\"  # Note: the trailing underscore is required\n",
    "from ydata_profiling import ProfileReport\n",
    "# df = pd.DataFrame(np.random.rand(100, 5), columns=[\"a\", \"b\", \"c\", \"d\", \"e\"])\n",
    "profile = ProfileReport(merged_df,minimal=True,)\n",
    "profile.to_file(\"your_report.html\")"
   ]
  }
 ],
 "metadata": {
  "kernelspec": {
   "display_name": "Python 3",
   "language": "python",
   "name": "python3"
  },
  "language_info": {
   "codemirror_mode": {
    "name": "ipython",
    "version": 3
   },
   "file_extension": ".py",
   "mimetype": "text/x-python",
   "name": "python",
   "nbconvert_exporter": "python",
   "pygments_lexer": "ipython3",
   "version": "3.11.4"
  }
 },
 "nbformat": 4,
 "nbformat_minor": 2
}
